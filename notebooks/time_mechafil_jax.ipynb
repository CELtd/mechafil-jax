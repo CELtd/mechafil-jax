{
 "cells": [
  {
   "cell_type": "code",
   "execution_count": 1,
   "id": "76ab8a68",
   "metadata": {},
   "outputs": [],
   "source": [
    "%matplotlib notebook\n",
    "%load_ext autoreload\n",
    "%autoreload 2"
   ]
  },
  {
   "cell_type": "code",
   "execution_count": 12,
   "id": "f483a10a",
   "metadata": {},
   "outputs": [],
   "source": [
    "import matplotlib.pyplot as plt\n",
    "\n",
    "from datetime import date, timedelta\n",
    "import timeit, functools\n",
    "\n",
    "from tqdm.auto import tqdm\n",
    "\n",
    "import pickle\n",
    "import os\n",
    "\n",
    "import numpy as np\n",
    "import jax.numpy as jnp\n",
    "\n",
    "import mechafil.data as mecha_data\n",
    "import mechafil.sim as np_sim\n",
    "import mechafil_jax.data as data\n",
    "import mechafil_jax.sim as sim\n",
    "import mechafil_jax.constants as C"
   ]
  },
  {
   "cell_type": "code",
   "execution_count": 3,
   "id": "34f3d74b",
   "metadata": {},
   "outputs": [
    {
     "name": "stdout",
     "output_type": "stream",
     "text": [
      "2023-06-01 2023-06-22 2028-06-20\n"
     ]
    }
   ],
   "source": [
    "token = '/Users/kiran/code/filecoin-mecha-twin/kiran_spacescope_auth.json'\n",
    "\n",
    "start_date = date(2023, 6, 1)\n",
    "current_date = date.today() - timedelta(days=3)\n",
    "\n",
    "print(start_date, current_date)"
   ]
  },
  {
   "cell_type": "code",
   "execution_count": 4,
   "id": "3988d954",
   "metadata": {},
   "outputs": [],
   "source": [
    "rbp_val = 6\n",
    "rr_val = 0.6\n",
    "fpr_val = 0.6\n",
    "lock_target = 0.3\n",
    "sector_duration=360\n",
    "num_mc = 10\n",
    "forecast_length_yrs_vec = range(1,10)"
   ]
  },
  {
   "cell_type": "code",
   "execution_count": 5,
   "id": "bc306f75",
   "metadata": {},
   "outputs": [
    {
     "data": {
      "application/vnd.jupyter.widget-view+json": {
       "model_id": "527ae3baf1514281bbb3b6472bbf852e",
       "version_major": 2,
       "version_minor": 0
      },
      "text/plain": [
       "  0%|          | 0/9 [00:00<?, ?it/s]"
      ]
     },
     "metadata": {},
     "output_type": "display_data"
    }
   ],
   "source": [
    "# Time Numpy\n",
    "np_speeds = []\n",
    "for forecast_length_yrs in tqdm(forecast_length_yrs_vec):\n",
    "    forecast_length = forecast_length_yrs*365\n",
    "    \n",
    "    end_date = current_date + timedelta(days=forecast_length)\n",
    "    np_offline_data = np_sim.get_offline_data(token, start_date, current_date, end_date)\n",
    "\n",
    "    t = timeit.Timer(\n",
    "        functools.partial(np_sim.run_simple_sim_offline, \n",
    "                          start_date,\n",
    "                          current_date,\n",
    "                          forecast_length,\n",
    "                          rr_val,\n",
    "                          rbp_val,\n",
    "                          fpr_val,\n",
    "                          sector_duration,\n",
    "                          np_offline_data\n",
    "                         ),\n",
    "    )\n",
    "    np_speeds.append(t.timeit(num_mc)/num_mc)"
   ]
  },
  {
   "cell_type": "code",
   "execution_count": 7,
   "id": "a025b3c7",
   "metadata": {},
   "outputs": [],
   "source": [
    "# verify we are in 32bit mode for jax and perform a jit compile to time things properly\n",
    "forecast_length = 720\n",
    "rbp = jnp.ones(forecast_length) * rbp_val\n",
    "rr = jnp.ones(forecast_length) * rr_val\n",
    "fpr = jnp.ones(forecast_length) * fpr_val\n",
    "\n",
    "end_date = current_date + timedelta(days=forecast_length)\n",
    "    \n",
    "jax_offline_data = data.get_simulation_data(token, start_date, current_date, end_date)\n",
    "jax_results = sim.run_sim(rbp, rr, fpr, lock_target, start_date, current_date, forecast_length, sector_duration, jax_offline_data)"
   ]
  },
  {
   "cell_type": "code",
   "execution_count": 8,
   "id": "b4e94a6e",
   "metadata": {},
   "outputs": [
    {
     "data": {
      "text/plain": [
       "dtype('float32')"
      ]
     },
     "execution_count": 8,
     "metadata": {},
     "output_type": "execute_result"
    }
   ],
   "source": [
    "jax_results['network_locked'].dtype"
   ]
  },
  {
   "cell_type": "code",
   "execution_count": 9,
   "id": "79d70f12",
   "metadata": {},
   "outputs": [
    {
     "data": {
      "application/vnd.jupyter.widget-view+json": {
       "model_id": "10795b18246549faaea11b1cff7f0eef",
       "version_major": 2,
       "version_minor": 0
      },
      "text/plain": [
       "  0%|          | 0/9 [00:00<?, ?it/s]"
      ]
     },
     "metadata": {},
     "output_type": "display_data"
    }
   ],
   "source": [
    "# Time JAX\n",
    "jax_speeds = []\n",
    "for forecast_length_yrs in tqdm(forecast_length_yrs_vec):\n",
    "    forecast_length = forecast_length_yrs*365\n",
    "\n",
    "    rbp = jnp.ones(forecast_length) * rbp_val\n",
    "    rr = jnp.ones(forecast_length) * rr_val\n",
    "    fpr = jnp.ones(forecast_length) * fpr_val\n",
    "\n",
    "    end_date = current_date + timedelta(days=forecast_length)\n",
    "    jax_offline_data = data.get_simulation_data(token, start_date, current_date, end_date)\n",
    "\n",
    "    t = timeit.Timer(\n",
    "        functools.partial(sim.run_sim, \n",
    "                          rbp,\n",
    "                          rr,\n",
    "                          fpr,\n",
    "                          lock_target,\n",
    "                          start_date,\n",
    "                          current_date,\n",
    "                          forecast_length,\n",
    "                          sector_duration,\n",
    "                          jax_offline_data\n",
    "                         ),\n",
    "    )\n",
    "    jax_speeds.append(t.timeit(num_mc)/num_mc)"
   ]
  },
  {
   "cell_type": "code",
   "execution_count": 10,
   "id": "9a544b5d",
   "metadata": {},
   "outputs": [],
   "source": [
    "# save to temporary file\n",
    "tmp_dir = '/tmp/time_jax'\n",
    "os.makedirs(tmp_dir, exist_ok=True)\n",
    "with open(os.path.join(tmp_dir, 'first_set.pkl'), 'wb') as f:\n",
    "    pickle.dump({'np_speed': np_speeds, 'jax_32bit_speeds': jax_speeds}, f)"
   ]
  },
  {
   "cell_type": "code",
   "execution_count": null,
   "id": "e5c5a7df",
   "metadata": {},
   "outputs": [
    {
     "data": {
      "text/html": [
       "<script>Jupyter.notebook.kernel.restart()</script>"
      ],
      "text/plain": [
       "<IPython.core.display.HTML object>"
      ]
     },
     "execution_count": 14,
     "metadata": {},
     "output_type": "execute_result"
    }
   ],
   "source": [
    "# restart kernel so we can run jax in 64 bit mode\n",
    "%reset -f\n",
    "from IPython.core.display import HTML\n",
    "HTML(\"<script>Jupyter.notebook.kernel.restart()</script>\")"
   ]
  },
  {
   "cell_type": "code",
   "execution_count": 1,
   "id": "8df9a716",
   "metadata": {},
   "outputs": [],
   "source": [
    "# try 64-bit\n",
    "from jax import config\n",
    "config.update(\"jax_enable_x64\", True)\n",
    "\n",
    "import matplotlib.pyplot as plt\n",
    "\n",
    "from datetime import date, timedelta\n",
    "import timeit, functools\n",
    "\n",
    "from tqdm.auto import tqdm\n",
    "\n",
    "import pickle\n",
    "import os\n",
    "from IPython.core.display import HTML\n",
    "\n",
    "import numpy as np\n",
    "import jax.numpy as jnp\n",
    "\n",
    "import mechafil.data as mecha_data\n",
    "import mechafil.sim as np_sim\n",
    "import mechafil_jax.data as data\n",
    "import mechafil_jax.sim as sim\n",
    "import mechafil_jax.constants as C"
   ]
  },
  {
   "cell_type": "code",
   "execution_count": 3,
   "id": "8d689313",
   "metadata": {},
   "outputs": [
    {
     "name": "stdout",
     "output_type": "stream",
     "text": [
      "2023-06-01 2023-06-22\n"
     ]
    }
   ],
   "source": [
    "token = '/Users/kiran/code/filecoin-mecha-twin/kiran_spacescope_auth.json'\n",
    "\n",
    "start_date = date(2023, 6, 1)\n",
    "current_date = date.today() - timedelta(days=3)\n",
    "\n",
    "print(start_date, current_date)"
   ]
  },
  {
   "cell_type": "code",
   "execution_count": 6,
   "id": "fc92c982",
   "metadata": {},
   "outputs": [],
   "source": [
    "rbp_val = 6\n",
    "rr_val = 0.6\n",
    "fpr_val = 0.6\n",
    "lock_target = 0.3\n",
    "sector_duration=360\n",
    "num_mc = 10\n",
    "forecast_length_yrs_vec = range(1,10)"
   ]
  },
  {
   "cell_type": "code",
   "execution_count": 7,
   "id": "432b6ac5",
   "metadata": {},
   "outputs": [],
   "source": [
    "# verify we are in 64bit mode for jax and perform a jit compile to time things properly\n",
    "forecast_length = 720\n",
    "rbp = jnp.ones(forecast_length) * rbp_val\n",
    "rr = jnp.ones(forecast_length) * rr_val\n",
    "fpr = jnp.ones(forecast_length) * fpr_val\n",
    "\n",
    "end_date = current_date + timedelta(days=forecast_length)\n",
    "    \n",
    "jax_offline_data = data.get_simulation_data(token, start_date, current_date, end_date)\n",
    "jax_results = sim.run_sim(rbp, rr, fpr, lock_target, start_date, current_date, forecast_length, sector_duration, jax_offline_data)"
   ]
  },
  {
   "cell_type": "code",
   "execution_count": 8,
   "id": "14acbc36",
   "metadata": {},
   "outputs": [
    {
     "data": {
      "text/plain": [
       "dtype('float64')"
      ]
     },
     "execution_count": 8,
     "metadata": {},
     "output_type": "execute_result"
    }
   ],
   "source": [
    "jax_results['network_locked'].dtype"
   ]
  },
  {
   "cell_type": "code",
   "execution_count": 9,
   "id": "e7d532c3",
   "metadata": {},
   "outputs": [
    {
     "data": {
      "application/vnd.jupyter.widget-view+json": {
       "model_id": "8107ff095ede458395cb916580e65190",
       "version_major": 2,
       "version_minor": 0
      },
      "text/plain": [
       "  0%|          | 0/9 [00:00<?, ?it/s]"
      ]
     },
     "metadata": {},
     "output_type": "display_data"
    }
   ],
   "source": [
    "# Time JAX\n",
    "jax_speeds_64bit = []\n",
    "for forecast_length_yrs in tqdm(forecast_length_yrs_vec):\n",
    "    forecast_length = forecast_length_yrs*365\n",
    "\n",
    "    rbp = jnp.ones(forecast_length) * rbp_val\n",
    "    rr = jnp.ones(forecast_length) * rr_val\n",
    "    fpr = jnp.ones(forecast_length) * fpr_val\n",
    "\n",
    "    end_date = current_date + timedelta(days=forecast_length)\n",
    "    jax_offline_data = data.get_simulation_data(token, start_date, current_date, end_date)\n",
    "\n",
    "    t = timeit.Timer(\n",
    "        functools.partial(sim.run_sim, \n",
    "                          rbp,\n",
    "                          rr,\n",
    "                          fpr,\n",
    "                          lock_target,\n",
    "                          start_date,\n",
    "                          current_date,\n",
    "                          forecast_length,\n",
    "                          sector_duration,\n",
    "                          jax_offline_data\n",
    "                         ),\n",
    "    )\n",
    "    jax_speeds_64bit.append(t.timeit(num_mc)/num_mc)"
   ]
  },
  {
   "cell_type": "code",
   "execution_count": 10,
   "id": "350f87ca",
   "metadata": {},
   "outputs": [],
   "source": [
    "# load 32 bit results\n",
    "tmp_dir = '/tmp/time_jax'\n",
    "with open(os.path.join(tmp_dir, 'first_set.pkl'), 'rb') as f:\n",
    "    res = pickle.load(f)\n",
    "\n",
    "np_speeds = np.asarray(res['np_speed'])\n",
    "jax_32bit_speeds = np.asarray(res['jax_32bit_speeds'])\n",
    "jax_64bit_speeds = np.asarray(jax_speeds_64bit)"
   ]
  },
  {
   "cell_type": "code",
   "execution_count": 11,
   "id": "c4ddd3c7",
   "metadata": {},
   "outputs": [
    {
     "data": {
      "image/png": "[encoded data removed]",
      "text/plain": [
       "<Figure size 700x300 with 2 Axes>"
      ]
     },
     "metadata": {},
     "output_type": "display_data"
    }
   ],
   "source": [
    "plt.figure(figsize=(7,3))\n",
    "plt.subplot(1,2,1)\n",
    "plt.plot(forecast_length_yrs_vec, np_speeds, label='NP')\n",
    "plt.plot(forecast_length_yrs_vec, jax_32bit_speeds, label='JAX-32bit')\n",
    "plt.plot(forecast_length_yrs_vec, jax_64bit_speeds, label='JAX-64bit', linestyle=':')\n",
    "plt.xlabel('Forecast Length')\n",
    "plt.ylabel('Time (sec)')\n",
    "plt.legend()\n",
    "\n",
    "plt.subplot(1,2,2)\n",
    "plt.plot(forecast_length_yrs_vec, np.asarray(np_speeds)/np.asarray(jax_32bit_speeds), label='32-bit')\n",
    "plt.plot(forecast_length_yrs_vec, np.asarray(np_speeds)/np.asarray(jax_64bit_speeds), label='64-bit')\n",
    "plt.xlabel('Forecast Length')\n",
    "plt.ylabel('Speedup (X)')\n",
    "plt.legend()\n",
    "\n",
    "plt.tight_layout()"
   ]
  },
  {
   "cell_type": "code",
   "execution_count": null,
   "id": "35cc567c",
   "metadata": {},
   "outputs": [],
   "source": []
  }
 ],
 "metadata": {
  "kernelspec": {
   "display_name": "Python 3 (ipykernel)",
   "language": "python",
   "name": "python3"
  },
  "language_info": {
   "codemirror_mode": {
    "name": "ipython",
    "version": 3
   },
   "file_extension": ".py",
   "mimetype": "text/x-python",
   "name": "python",
   "nbconvert_exporter": "python",
   "pygments_lexer": "ipython3",
   "version": "3.10.11"
  }
 },
 "nbformat": 4,
 "nbformat_minor": 5
}
